{
 "cells": [
  {
   "cell_type": "markdown",
   "id": "973a337e",
   "metadata": {},
   "source": [
    "### 1.\tWrite a Python Program to Add Two Matrices?"
   ]
  },
  {
   "cell_type": "code",
   "execution_count": 10,
   "id": "75053848",
   "metadata": {},
   "outputs": [
    {
     "name": "stdout",
     "output_type": "stream",
     "text": [
      "2\n",
      "6\n",
      "12\n",
      "16\n",
      "24\n",
      "36\n",
      "44\n",
      "54\n",
      "66\n",
      "sum of two matrices is  66\n"
     ]
    }
   ],
   "source": [
    "def mat_add(m,n):\n",
    "    s=0\n",
    "    for i,i1 in zip(m,n):\n",
    "        #print(i,i1)\n",
    "        for j,j1 in zip(i,i1):\n",
    "            #print(j,j1)\n",
    "            t=j+j1\n",
    "            #print(t)\n",
    "            s=s+t\n",
    "            print(s)\n",
    "    return s\n",
    "m=[[1,2,3],\n",
    "    [2,4,6],\n",
    "    [4,5,6]]\n",
    "n=[[1,2,3],\n",
    "    [2,4,6],\n",
    "    [4,5,6]]\n",
    "print(\"sum of two matrices is \",mat_add(m,n))"
   ]
  },
  {
   "cell_type": "markdown",
   "id": "dcc08f14",
   "metadata": {},
   "source": [
    "### 2.\tWrite a Python Program to Multiply Two Matrices?"
   ]
  },
  {
   "cell_type": "code",
   "execution_count": 12,
   "id": "ff35bebe",
   "metadata": {},
   "outputs": [
    {
     "name": "stdout",
     "output_type": "stream",
     "text": [
      "sum of two matrices is  [[17, 25, 33], [34, 50, 66], [38, 58, 78]]\n"
     ]
    }
   ],
   "source": [
    "def mat_mul(m,n):\n",
    "    s=[[0,0,0],\n",
    "       [0,0,0],\n",
    "       [0,0,0]]\n",
    "    for i in range(len(m)):\n",
    "        #print(i,i1)\n",
    "        for j in range(len(n[0])):\n",
    "            #print(j,j1)\n",
    "            for k in range(len(n)):\n",
    "                s[i][j]+=m[i][k]*n[k][j]\n",
    "    return s\n",
    "m=[[1,2,3],\n",
    "    [2,4,6],\n",
    "    [4,5,6]]\n",
    "n=[[1,2,3],\n",
    "    [2,4,6],\n",
    "    [4,5,6]]\n",
    "print(\"sum of two matrices is \",mat_mul(m,n)) "
   ]
  },
  {
   "cell_type": "markdown",
   "id": "4d5d5cef",
   "metadata": {},
   "source": [
    "### 3.\tWrite a Python Program to Transpose a Matrix?"
   ]
  },
  {
   "cell_type": "code",
   "execution_count": 13,
   "id": "2f7bc504",
   "metadata": {},
   "outputs": [
    {
     "name": "stdout",
     "output_type": "stream",
     "text": [
      "transpose of a matrix is [[1, 2, 4], [2, 4, 5], [3, 6, 6]]\n"
     ]
    }
   ],
   "source": [
    "def transmat(n):\n",
    "    m=[[0,0,0],\n",
    "       [0,0,0],\n",
    "       [0,0,0]]\n",
    "    for i in range(0,len(n)):\n",
    "        for j in range(0,len(n[i])):\n",
    "            m[j][i]=n[i][j]\n",
    "    return m\n",
    "\n",
    "n=[[1,2,3],\n",
    "    [2,4,6],\n",
    "    [4,5,6]]\n",
    "\n",
    "print(\"transpose of a matrix is\",transmat(n))"
   ]
  },
  {
   "cell_type": "markdown",
   "id": "1bc1107d",
   "metadata": {},
   "source": [
    "### 4.\tWrite a Python Program to Sort Words in Alphabetic Order?"
   ]
  },
  {
   "cell_type": "code",
   "execution_count": 15,
   "id": "e00b8f82",
   "metadata": {},
   "outputs": [
    {
     "name": "stdout",
     "output_type": "stream",
     "text": [
      "enter stringHi I am Ruby Panchal and my Husband Is Kumar\n",
      "Hi\n",
      "Husband\n",
      "I\n",
      "Is\n",
      "Kumar\n",
      "Panchal\n",
      "Ruby\n",
      "am\n",
      "and\n",
      "my\n"
     ]
    }
   ],
   "source": [
    "inputStr=input(\"enter string\")\n",
    "words=inputStr.split()\n",
    "words.sort()\n",
    "for word in words:\n",
    "    print(word)"
   ]
  },
  {
   "cell_type": "markdown",
   "id": "d65cf468",
   "metadata": {},
   "source": [
    "### 5.\tWrite a Python Program to Remove Punctuation From a String?"
   ]
  },
  {
   "cell_type": "code",
   "execution_count": 18,
   "id": "8314ece8",
   "metadata": {},
   "outputs": [
    {
     "name": "stdout",
     "output_type": "stream",
     "text": [
      "enter stringHi, is this the same gift? yes, or not??\n",
      "no puntuation string Hi is this the same gift yes or not\n"
     ]
    }
   ],
   "source": [
    "punctuations = '''!()-[]{};:'\"\\,<>./?@#$%^&*_~'''\n",
    "inputStr=input(\"enter string\")\n",
    "newStr=\"\"\n",
    "for i in inputStr:\n",
    "    if i not in punctuations:\n",
    "        newStr+=i\n",
    "print(\"no puntuation string\",newStr)"
   ]
  },
  {
   "cell_type": "code",
   "execution_count": null,
   "id": "0b4249e3",
   "metadata": {},
   "outputs": [],
   "source": []
  }
 ],
 "metadata": {
  "kernelspec": {
   "display_name": "Python 3 (ipykernel)",
   "language": "python",
   "name": "python3"
  },
  "language_info": {
   "codemirror_mode": {
    "name": "ipython",
    "version": 3
   },
   "file_extension": ".py",
   "mimetype": "text/x-python",
   "name": "python",
   "nbconvert_exporter": "python",
   "pygments_lexer": "ipython3",
   "version": "3.9.12"
  }
 },
 "nbformat": 4,
 "nbformat_minor": 5
}
