{
 "cells": [
  {
   "cell_type": "markdown",
   "id": "f83145be",
   "metadata": {},
   "source": [
    "### 1.\tWrite a Python program to find sum of elements in list?"
   ]
  },
  {
   "cell_type": "code",
   "execution_count": 8,
   "id": "2bc3e4e3",
   "metadata": {},
   "outputs": [
    {
     "name": "stdout",
     "output_type": "stream",
     "text": [
      "sum of list is 30\n"
     ]
    }
   ],
   "source": [
    "def list_sum(l):\n",
    "    s=0\n",
    "    for i in l:\n",
    "        s=s+i\n",
    "    return s\n",
    "l=[2,4,6,8,10]\n",
    "print(\"sum of list is\", list_sum(l))"
   ]
  },
  {
   "cell_type": "markdown",
   "id": "b3a214f2",
   "metadata": {},
   "source": [
    "### 2.\tWrite a Python program to  Multiply all numbers in the list?"
   ]
  },
  {
   "cell_type": "code",
   "execution_count": 11,
   "id": "ac254f03",
   "metadata": {},
   "outputs": [
    {
     "name": "stdout",
     "output_type": "stream",
     "text": [
      "mul of list is 3840\n"
     ]
    }
   ],
   "source": [
    "def list_mul(l):\n",
    "    s=1\n",
    "    for i in l:\n",
    "        s=s*i\n",
    "    return s\n",
    "l=[2,4,6,8,10]\n",
    "print(\"mul of list is\", list_mul(l))"
   ]
  },
  {
   "cell_type": "markdown",
   "id": "c231d11d",
   "metadata": {},
   "source": [
    "### 3.\tWrite a Python program to find smallest number in a list?"
   ]
  },
  {
   "cell_type": "code",
   "execution_count": 15,
   "id": "52033a57",
   "metadata": {},
   "outputs": [
    {
     "name": "stdout",
     "output_type": "stream",
     "text": [
      "small is 4\n"
     ]
    }
   ],
   "source": [
    "l=[22,4,6,8,10]\n",
    "small=l[0]\n",
    "for i in l:\n",
    "    if small>i:\n",
    "        small=i\n",
    "print(\"small is\",small)"
   ]
  },
  {
   "cell_type": "markdown",
   "id": "04a202ca",
   "metadata": {},
   "source": [
    "### 4.\tWrite a Python program to find largest number in a list?"
   ]
  },
  {
   "cell_type": "code",
   "execution_count": 16,
   "id": "45a60739",
   "metadata": {},
   "outputs": [
    {
     "name": "stdout",
     "output_type": "stream",
     "text": [
      "large is 22\n"
     ]
    }
   ],
   "source": [
    "l=[22,4,6,8,10]\n",
    "large=l[0]\n",
    "for i in l:\n",
    "    if large<i:\n",
    "        large=i\n",
    "print(\"large is\",large)"
   ]
  },
  {
   "cell_type": "markdown",
   "id": "26fa95fa",
   "metadata": {},
   "source": [
    "### 5.\tWrite a Python program to find second largest number in a list?"
   ]
  },
  {
   "cell_type": "code",
   "execution_count": 25,
   "id": "e7570efc",
   "metadata": {},
   "outputs": [
    {
     "name": "stdout",
     "output_type": "stream",
     "text": [
      "[4, 6, 8, 10, 22]\n",
      "3 3\n",
      "Second largest is 10\n"
     ]
    }
   ],
   "source": [
    "l=[22,4,6,8,10]\n",
    "l.sort()\n",
    "print(l)\n",
    "large=l[0]\n",
    "for i in range(0,len(l)):\n",
    "    if i==len(l)-2:\n",
    "        print(i,len(l)-2)\n",
    "        print(\"Second largest is\",l[i])"
   ]
  },
  {
   "cell_type": "markdown",
   "id": "63963da1",
   "metadata": {},
   "source": [
    "### 6.\tWrite a Python program to find N largest elements from a list?"
   ]
  },
  {
   "cell_type": "code",
   "execution_count": 36,
   "id": "30254724",
   "metadata": {},
   "outputs": [
    {
     "name": "stdout",
     "output_type": "stream",
     "text": [
      "next largest is 22\n",
      "next largest is 10\n",
      "next largest is 8\n",
      "next largest is 6\n",
      "next largest is 4\n"
     ]
    }
   ],
   "source": [
    "l=[22,4,6,8,10]\n",
    "l.sort()\n",
    "#print(l)\n",
    "large=l[0]\n",
    "for i in reversed(range(len(l))):\n",
    "    #print(\"hello\")\n",
    "    #print(i,len(l)-2)\n",
    "    print(\"next largest is\",l[i])"
   ]
  },
  {
   "cell_type": "markdown",
   "id": "d12e1f14",
   "metadata": {},
   "source": [
    "### 7.\tWrite a Python program to print even numbers in a list?"
   ]
  },
  {
   "cell_type": "code",
   "execution_count": 38,
   "id": "0127d699",
   "metadata": {},
   "outputs": [
    {
     "name": "stdout",
     "output_type": "stream",
     "text": [
      "even num 22\n",
      "even num 4\n",
      "even num 6\n",
      "even num 8\n",
      "even num 10\n"
     ]
    }
   ],
   "source": [
    "l=[22,15,4,6,8,10,11,89]\n",
    "for i in l:\n",
    "    if i%2==0:\n",
    "        print(\"even num\",i)"
   ]
  },
  {
   "cell_type": "markdown",
   "id": "5182b264",
   "metadata": {},
   "source": [
    "### 8.\tWrite a Python program to print odd numbers in a List?"
   ]
  },
  {
   "cell_type": "code",
   "execution_count": 39,
   "id": "1683ba7d",
   "metadata": {},
   "outputs": [
    {
     "name": "stdout",
     "output_type": "stream",
     "text": [
      "odd num 15\n",
      "odd num 11\n",
      "odd num 89\n"
     ]
    }
   ],
   "source": [
    "l=[22,15,4,6,8,10,11,89]\n",
    "for i in l:\n",
    "    if i%2!=0:\n",
    "        print(\"odd num\",i)"
   ]
  },
  {
   "cell_type": "markdown",
   "id": "416faf48",
   "metadata": {},
   "source": [
    "### 9.\tWrite a Python program to Remove empty List from List?"
   ]
  },
  {
   "cell_type": "code",
   "execution_count": 41,
   "id": "b16931e9",
   "metadata": {},
   "outputs": [
    {
     "name": "stdout",
     "output_type": "stream",
     "text": [
      "empty\n",
      "empty\n",
      "non emptied list [22, 15, [4, 6], 8, 10, [11, 89]]\n"
     ]
    }
   ],
   "source": [
    "l=[22,15,[4,6],8,[],10,[11,89],[]]\n",
    "l1=[]\n",
    "for i in l:\n",
    "    if type(i)==list and len(i)==0:\n",
    "        print(\"empty\")\n",
    "        continue\n",
    "    else:\n",
    "        l1.append(i)\n",
    "print(\"non emptied list\",l1)       "
   ]
  },
  {
   "cell_type": "markdown",
   "id": "fd6cb637",
   "metadata": {},
   "source": [
    "### 10.\tWrite a Python program to Cloning or Copying a list?"
   ]
  },
  {
   "cell_type": "code",
   "execution_count": 43,
   "id": "93f61a69",
   "metadata": {},
   "outputs": [
    {
     "name": "stdout",
     "output_type": "stream",
     "text": [
      "[1, 2, 3, 4, 5, 67]\n"
     ]
    }
   ],
   "source": [
    "l=[1,2,3,4,5,67]\n",
    "l1=[]\n",
    "for i in l:\n",
    "    l1.append(i)\n",
    "print(l1)"
   ]
  },
  {
   "cell_type": "markdown",
   "id": "ac0ba59e",
   "metadata": {},
   "source": [
    "### 11.\tWrite a Python program to Count occurrences of an element in a list?"
   ]
  },
  {
   "cell_type": "code",
   "execution_count": 47,
   "id": "0f74683e",
   "metadata": {},
   "outputs": [
    {
     "data": {
      "text/plain": [
       "{1: 3, 2: 4, 3: 2, 4: 2, 5: 1, 7: 1, 8: 1}"
      ]
     },
     "execution_count": 47,
     "metadata": {},
     "output_type": "execute_result"
    }
   ],
   "source": [
    "l=[1,1,2,2,2,2,3,3,4,5,1,7,8,4]\n",
    "l1=set(l)\n",
    "l2={}\n",
    "\n",
    "for i in list(l1):\n",
    "    c=0\n",
    "    for j in l:\n",
    "        if i==j:\n",
    "            c=c+1\n",
    "    l2[i]=c\n",
    "            \n",
    "l2"
   ]
  },
  {
   "cell_type": "code",
   "execution_count": null,
   "id": "3bed917a",
   "metadata": {},
   "outputs": [],
   "source": []
  }
 ],
 "metadata": {
  "kernelspec": {
   "display_name": "Python 3 (ipykernel)",
   "language": "python",
   "name": "python3"
  },
  "language_info": {
   "codemirror_mode": {
    "name": "ipython",
    "version": 3
   },
   "file_extension": ".py",
   "mimetype": "text/x-python",
   "name": "python",
   "nbconvert_exporter": "python",
   "pygments_lexer": "ipython3",
   "version": "3.9.12"
  }
 },
 "nbformat": 4,
 "nbformat_minor": 5
}
