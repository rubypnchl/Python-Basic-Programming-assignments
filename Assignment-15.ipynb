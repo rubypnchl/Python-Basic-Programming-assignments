{
 "cells": [
  {
   "cell_type": "markdown",
   "id": "bc1d1b08",
   "metadata": {},
   "source": [
    "### Question 1:\n",
    "Please write a program using generator to print the numbers which can be divisible by 5 and 7 between 0 and n in comma separated form while n is input by console.\n",
    "Example:\n",
    "If the following n is given as input to the program:\n",
    "100\n",
    "Then, the output of the program should be:\n",
    "0,35,70\n"
   ]
  },
  {
   "cell_type": "code",
   "execution_count": 9,
   "id": "3788d278",
   "metadata": {},
   "outputs": [
    {
     "name": "stdout",
     "output_type": "stream",
     "text": [
      "enter input100\n"
     ]
    },
    {
     "data": {
      "text/plain": [
       "[0, 35, 70]"
      ]
     },
     "execution_count": 9,
     "metadata": {},
     "output_type": "execute_result"
    }
   ],
   "source": [
    "n=int(input(\"enter input\"))\n",
    "fn=list(filter(lambda x: x%5==0 and x%7==0,range(0,n)))\n",
    "fn"
   ]
  },
  {
   "cell_type": "markdown",
   "id": "5c777405",
   "metadata": {},
   "source": [
    "### Question 2:\n",
    "Please write a program using generator to print the even numbers between 0 and n in comma separated form while n is input by console.\n",
    "Example:\n",
    "If the following n is given as input to the program:\n",
    "10\n",
    "Then, the output of the program should be:\n",
    "0,2,4,6,8,10\n"
   ]
  },
  {
   "cell_type": "code",
   "execution_count": null,
   "id": "6ccb17c3",
   "metadata": {},
   "outputs": [],
   "source": [
    "\n",
    "fn=list(filter(lambda x: x%2==0,range(0,n)))\n",
    "fn"
   ]
  },
  {
   "cell_type": "markdown",
   "id": "ce750e25",
   "metadata": {},
   "source": [
    "### Question 3:\n",
    "The Fibonacci Sequence is computed based on the following formula:\n",
    "f(n)=0 if n=0\n",
    "f(n)=1 if n=1\n",
    "f(n)=f(n-1)+f(n-2) if n>1\n",
    "Please write a program using list comprehension to print the Fibonacci Sequence in comma separated form with a given n input by console.\n",
    "Example:\n",
    "If the following n is given as input to the program:\n",
    "7\n",
    "\n",
    "Then, the output of the program should be:\n",
    "0,1,1,2,3,5,8,13\n"
   ]
  },
  {
   "cell_type": "code",
   "execution_count": 18,
   "id": "8633eb75",
   "metadata": {},
   "outputs": [
    {
     "name": "stdout",
     "output_type": "stream",
     "text": [
      "[0, 1, 1, 2, 3, 5, 8, 13, 21, 34, 55, 89, 144, 233, 377, 610, 987, 1597, 2584, 4181, 6765, 10946, 17711, 28657, 46368, 75025, 121393, 196418, 317811, 514229, 832040, 1346269, 2178309, 3524578, 5702887, 9227465, 14930352, 24157817, 39088169, 63245986, 102334155, 165580141, 267914296, 433494437, 701408733, 1134903170, 1836311903, 2971215073, 4807526976, 7778742049, 12586269025, 20365011074, 32951280099, 53316291173, 86267571272, 139583862445, 225851433717, 365435296162, 591286729879, 956722026041, 1548008755920, 2504730781961, 4052739537881, 6557470319842, 10610209857723, 17167680177565, 27777890035288, 44945570212853, 72723460248141, 117669030460994, 190392490709135, 308061521170129, 498454011879264, 806515533049393, 1304969544928657, 2111485077978050, 3416454622906707, 5527939700884757, 8944394323791464, 14472334024676221, 23416728348467685, 37889062373143906, 61305790721611591, 99194853094755497, 160500643816367088, 259695496911122585, 420196140727489673, 679891637638612258, 1100087778366101931, 1779979416004714189, 2880067194370816120, 4660046610375530309, 7540113804746346429, 12200160415121876738, 19740274219868223167, 31940434634990099905, 51680708854858323072, 83621143489848422977, 135301852344706746049, 218922995834555169026]\n"
     ]
    }
   ],
   "source": [
    "l=[0,1]\n",
    "[l.append(l[-2]+l[-1]) for i in range(2,n)]\n",
    "print(l)"
   ]
  },
  {
   "cell_type": "markdown",
   "id": "89ba8383",
   "metadata": {},
   "source": [
    "### Question 4:\n",
    "Assuming that we have some email addresses in the \"username@companyname.com\" format, please write program to print the user name of a given email address. Both user names and company names are composed of letters only.\n",
    "Example:\n",
    "If the following email address is given as input to the program:\n",
    "john@google.com\n",
    "Then, the output of the program should be:\n",
    "john\n",
    "\n"
   ]
  },
  {
   "cell_type": "code",
   "execution_count": 48,
   "id": "a19df96f",
   "metadata": {},
   "outputs": [
    {
     "name": "stdout",
     "output_type": "stream",
     "text": [
      "enter usernameusername@companyname.com\n",
      "username\n"
     ]
    }
   ],
   "source": [
    "s=input(\"enter username\")\n",
    "#s=s.split(\"\")\n",
    "u=\"\"\n",
    "u1=[]\n",
    "for i in s:\n",
    "    if i=='@':\n",
    "        break\n",
    "    else:\n",
    "        u1.append(i)\n",
    "\n",
    "print(\"\".join(u1))\n",
    "\n"
   ]
  },
  {
   "cell_type": "markdown",
   "id": "47d6dd91",
   "metadata": {},
   "source": [
    "### Question 5:\n",
    "Define a class named Shape and its subclass Square. The Square class has an init function which takes a length as argument. Both classes have a area function which can print the area of the shape where Shape's area is 0 by default.\n"
   ]
  },
  {
   "cell_type": "code",
   "execution_count": 54,
   "id": "7556c420",
   "metadata": {},
   "outputs": [
    {
     "name": "stdout",
     "output_type": "stream",
     "text": [
      "enter length10\n"
     ]
    },
    {
     "data": {
      "text/plain": [
       "314.0"
      ]
     },
     "execution_count": 54,
     "metadata": {},
     "output_type": "execute_result"
    }
   ],
   "source": [
    "class shape:\n",
    "    \n",
    "    def __init__(self,length):\n",
    "        self.length=length\n",
    "        self.a=0\n",
    "        \n",
    "    def area(self):\n",
    "        self.a=length*length\n",
    "        return self.a\n",
    "    \n",
    "    def __str__(self):\n",
    "        print(\"area in parent class\")\n",
    "        \n",
    "class square(shape):\n",
    "    \n",
    "    def __init__(self,length):\n",
    "        super().__init__(length)\n",
    "        self.length=length\n",
    "        \n",
    "    def area(self):\n",
    "        return 3.14*self.length*self.length\n",
    "    \n",
    "    def __str__(self):\n",
    "        print(\"child class area\")#\n",
    "        \n",
    "length=int(input(\"enter length\"))\n",
    "s=square(length)\n",
    "s.area()          "
   ]
  },
  {
   "cell_type": "code",
   "execution_count": null,
   "id": "f82f763a",
   "metadata": {},
   "outputs": [],
   "source": []
  }
 ],
 "metadata": {
  "kernelspec": {
   "display_name": "Python 3 (ipykernel)",
   "language": "python",
   "name": "python3"
  },
  "language_info": {
   "codemirror_mode": {
    "name": "ipython",
    "version": 3
   },
   "file_extension": ".py",
   "mimetype": "text/x-python",
   "name": "python",
   "nbconvert_exporter": "python",
   "pygments_lexer": "ipython3",
   "version": "3.9.12"
  }
 },
 "nbformat": 4,
 "nbformat_minor": 5
}
