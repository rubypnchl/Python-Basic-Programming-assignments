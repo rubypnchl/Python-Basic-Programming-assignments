{
 "cells": [
  {
   "cell_type": "markdown",
   "id": "76fcbcd1",
   "metadata": {},
   "source": [
    "### 1.\tWrite a Python Program to Display Fibonacci Sequence Using Recursion?"
   ]
  },
  {
   "cell_type": "code",
   "execution_count": 3,
   "id": "3f9df57b",
   "metadata": {},
   "outputs": [
    {
     "name": "stdout",
     "output_type": "stream",
     "text": [
      "enter your number5\n",
      "0\n",
      "1\n",
      "1\n",
      "2\n",
      "3\n"
     ]
    }
   ],
   "source": [
    "def fib(n):\n",
    "    if n<=1:\n",
    "        return n\n",
    "    else:\n",
    "        return fib(n-1)+fib(n-2)\n",
    "n=int(input(\"enter your number\"))\n",
    "for i in range(n):\n",
    "    print(fib(i))"
   ]
  },
  {
   "cell_type": "markdown",
   "id": "789ae5f9",
   "metadata": {},
   "source": [
    "### 2.\tWrite a Python Program to Find Factorial of Number Using Recursion?"
   ]
  },
  {
   "cell_type": "code",
   "execution_count": 2,
   "id": "06b80941",
   "metadata": {},
   "outputs": [
    {
     "name": "stdout",
     "output_type": "stream",
     "text": [
      "enter your number9\n",
      "362880\n"
     ]
    }
   ],
   "source": [
    "def fact(n):\n",
    "    if n<=1:\n",
    "        return n\n",
    "    else:\n",
    "        return n*fact(n-1)\n",
    "n=int(input(\"enter your number\"))\n",
    "print(fact(n))"
   ]
  },
  {
   "cell_type": "markdown",
   "id": "4d5f6fdb",
   "metadata": {},
   "source": [
    "### 3.\tWrite a Python Program to calculate your Body Mass Index?"
   ]
  },
  {
   "cell_type": "code",
   "execution_count": 8,
   "id": "c7e88d82",
   "metadata": {},
   "outputs": [
    {
     "name": "stdout",
     "output_type": "stream",
     "text": [
      "enter weight76\n",
      "enter height5.6\n",
      "1.70688\n",
      "BMI_Index 26.086007387434275\n"
     ]
    }
   ],
   "source": [
    "def BMI(weight,height):#\n",
    "    BMI_index=weight/pow(height,2)\n",
    "    return BMI_index\n",
    "w=float(input(\"enter weight\"))\n",
    "h=float(input(\"enter height\"))\n",
    "#convert height into meters\n",
    "h1=h*0.3048\n",
    "print(h1)\n",
    "print(\"BMI_Index\",BMI(w,h1))"
   ]
  },
  {
   "cell_type": "markdown",
   "id": "4f194d8a",
   "metadata": {},
   "source": [
    "### 4.\tWrite a Python Program to calculate the natural logarithm of any number?"
   ]
  },
  {
   "cell_type": "code",
   "execution_count": 9,
   "id": "5e2ac96e",
   "metadata": {},
   "outputs": [
    {
     "name": "stdout",
     "output_type": "stream",
     "text": [
      "enter any number5\n",
      "natural log is 1.6094379124341003\n"
     ]
    }
   ],
   "source": [
    "import math\n",
    "\n",
    "n=int(input(\"enter any number\"))\n",
    "natural_log=math.log(n)\n",
    "print(\"natural log is\",natural_log)"
   ]
  },
  {
   "cell_type": "markdown",
   "id": "4dd082f3",
   "metadata": {},
   "source": [
    "### 5.\tWrite a Python Program for cube sum of first n natural numbers?"
   ]
  },
  {
   "cell_type": "code",
   "execution_count": 13,
   "id": "228060b9",
   "metadata": {},
   "outputs": [
    {
     "name": "stdout",
     "output_type": "stream",
     "text": [
      "enter number5\n",
      "natural numbers cub sum is 225\n"
     ]
    }
   ],
   "source": [
    "def natural_sum(n):\n",
    "    s=0\n",
    "    for i in range(n+1):\n",
    "        s=s+pow(i,3)\n",
    "    return s\n",
    "n_s=natural_sum(int(input(\"enter number\")))\n",
    "print(\"natural numbers cub sum is\",n_s)"
   ]
  },
  {
   "cell_type": "code",
   "execution_count": null,
   "id": "59c2bfb9",
   "metadata": {},
   "outputs": [],
   "source": []
  }
 ],
 "metadata": {
  "kernelspec": {
   "display_name": "Python 3 (ipykernel)",
   "language": "python",
   "name": "python3"
  },
  "language_info": {
   "codemirror_mode": {
    "name": "ipython",
    "version": 3
   },
   "file_extension": ".py",
   "mimetype": "text/x-python",
   "name": "python",
   "nbconvert_exporter": "python",
   "pygments_lexer": "ipython3",
   "version": "3.9.12"
  }
 },
 "nbformat": 4,
 "nbformat_minor": 5
}
