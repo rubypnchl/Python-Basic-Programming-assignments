{
 "cells": [
  {
   "cell_type": "markdown",
   "id": "928ba429",
   "metadata": {},
   "source": [
    "### Question1. Create a function that takes three arguments a, b, c and returns the sum of the numbers that are evenly divided by c from the range a, b inclusive.\n",
    "Examples\n",
    "evenly_divisible(1, 10, 20) ➞ 0\n",
    "#### No number between 1 and 10 can be evenly divided by 20.\n",
    "\n",
    "evenly_divisible(1, 10, 2) ➞ 30\n",
    "#### 2 + 4 + 6 + 8 + 10 = 30\n",
    "\n",
    "evenly_divisible(1, 10, 3) ➞ 18\n",
    "#### 3 + 6 + 9 = 18\n"
   ]
  },
  {
   "cell_type": "code",
   "execution_count": 3,
   "id": "a3acfe91",
   "metadata": {},
   "outputs": [
    {
     "name": "stdout",
     "output_type": "stream",
     "text": [
      "enter n11\n",
      "enter n22\n",
      "enter n33\n",
      "0\n"
     ]
    }
   ],
   "source": [
    "#Function definition\n",
    "def evenly_divisible(n1,n2,n3):\n",
    "    s=0\n",
    "    for i in range(n1,n2+1):\n",
    "        if i%n3==0:\n",
    "            s=s+i\n",
    "    return s\n",
    "\n",
    "n1=int(input(\"enter n1\"))\n",
    "n2=int(input(\"enter n2\"))\n",
    "n3=int(input(\"enter n3\"))\n",
    "\n",
    "#Driver Code\n",
    "print(evenly_divisible(n1,n2,n3))"
   ]
  },
  {
   "cell_type": "markdown",
   "id": "d8ca4142",
   "metadata": {},
   "source": [
    "### Question2. Create a function that returns True if a given inequality expression is correct and False otherwise.\n",
    "Examples\n",
    "correct_signs(\"3 < 7 < 11\") ➞ True\n",
    "\n",
    "correct_signs(\"13 > 44 > 33 > 1\") ➞ False\n",
    "\n",
    "correct_signs(\"1 < 2 < 6 < 9 > 3\") ➞ True\n"
   ]
  },
  {
   "cell_type": "code",
   "execution_count": 6,
   "id": "ae9864f6",
   "metadata": {},
   "outputs": [
    {
     "name": "stdout",
     "output_type": "stream",
     "text": [
      "enter inequality expression3>7>1\n",
      "False\n"
     ]
    }
   ],
   "source": [
    "def correct_signs(s):\n",
    "    r=eval(s)\n",
    "    if r:\n",
    "        return True\n",
    "    else:\n",
    "        return False\n",
    "    \n",
    "s=input(\"enter inequality expression\")\n",
    "print(correct_signs(s))"
   ]
  },
  {
   "cell_type": "markdown",
   "id": "e6a0b662",
   "metadata": {},
   "source": [
    "### Question3. Create a function that replaces all the vowels in a string with a specified character.\n",
    "Examples\n",
    "replace_vowels(\"the aardvark\", \"#\") ➞ \"th# ##rdv#rk\"\n",
    "\n",
    "replace_vowels(\"minnie mouse\", \"?\") ➞ \"m?nn?? m??s?\"\n",
    "\n",
    "replace_vowels(\"shakespeare\", \"*\") ➞ \"sh*k*sp**r*\"\n"
   ]
  },
  {
   "cell_type": "code",
   "execution_count": 15,
   "id": "c72ff9e5",
   "metadata": {},
   "outputs": [
    {
     "name": "stdout",
     "output_type": "stream",
     "text": [
      "enter stringthe aad\n",
      "['t', 'h', 'e', ' ', 'a', 'a', 'd']\n",
      "t\n",
      "h\n",
      "e\n",
      " \n",
      "a\n",
      "a\n",
      "d\n",
      "['t', 'h', '@', ' ', '@', '@', 'd']\n",
      "None\n"
     ]
    }
   ],
   "source": [
    "def replace_vowels(s,c):\n",
    "    l=len(s)\n",
    "    s1=[]\n",
    "    for i in s:\n",
    "        s1.append(i)\n",
    "    print(s1)\n",
    "    #print(type(s1))\n",
    "    for i in range(0,l):\n",
    "        print(s[i])\n",
    "        if s[i] in ['a','e','i','o','u']:\n",
    "            s1[i]=c\n",
    "    print(s1)\n",
    "\n",
    "#driver code\n",
    "s=input(\"enter string\")\n",
    "c='@'\n",
    "#driver code\n",
    "replace_vowels(s,c)"
   ]
  },
  {
   "cell_type": "markdown",
   "id": "9786127b",
   "metadata": {},
   "source": [
    "### Question4. Write a function that calculates the factorial of a number recursively.\n",
    "Examples\n",
    "factorial(5) ➞ 120\n",
    "\n",
    "factorial(3) ➞ 6\n",
    "\n",
    "factorial(1) ➞ 1\n",
    "\n",
    "factorial(0) ➞ 1\n"
   ]
  },
  {
   "cell_type": "code",
   "execution_count": 22,
   "id": "184e27e6",
   "metadata": {},
   "outputs": [
    {
     "name": "stdout",
     "output_type": "stream",
     "text": [
      "enter number5\n",
      "factorial is 120\n"
     ]
    }
   ],
   "source": [
    "def factorial(n):\n",
    "    if n==1 or n==0:\n",
    "        return 1\n",
    "    else:\n",
    "        return n*factorial(n-1)\n",
    "        \n",
    "#driver code\n",
    "n=int(input(\"enter number\"))\n",
    "if n<0:\n",
    "    print(\"sorry no factorial for less than zero number\")\n",
    "else:\n",
    "    print(\"factorial is\",factorial(n))"
   ]
  },
  {
   "cell_type": "markdown",
   "id": "4159f52f",
   "metadata": {},
   "source": [
    "### Question 5 Hamming distance is the number of characters that differ between two strings.\n",
    "To illustrate:\n",
    "String1: \"abcbba\"\n",
    "String2: \"abcbda\"\n",
    "\n",
    "Hamming Distance: 1 - \"b\" vs. \"d\" is the only difference.\n",
    "Create a function that computes the hamming distance between two strings.\n",
    "Examples\n",
    "hamming_distance(\"abcde\", \"bcdef\") ➞ 5\n",
    "\n",
    "hamming_distance(\"abcde\", \"abcde\") ➞ 0\n",
    "\n",
    "hamming_distance(\"strong\", \"strung\") ➞ 1\n"
   ]
  },
  {
   "cell_type": "code",
   "execution_count": 26,
   "id": "fdf836fa",
   "metadata": {},
   "outputs": [
    {
     "name": "stdout",
     "output_type": "stream",
     "text": [
      "enter string s1abcbba\n",
      "enter string s2abcbda\n",
      "a a\n",
      "b b\n",
      "c c\n",
      "b b\n",
      "b d\n",
      "a a\n",
      "the hamming distance between string s1 and s2 is 1\n"
     ]
    }
   ],
   "source": [
    "def hamming_distance(s1,s2):\n",
    "    count=0\n",
    "    for i,j in zip(s1,s2):\n",
    "        print(i,j)\n",
    "        if i!=j:\n",
    "            count=count+1\n",
    "    return count\n",
    "\n",
    "#driver code\n",
    "s1=input(\"enter string s1\")\n",
    "s2=input(\"enter string s2\")\n",
    "print(\"the hamming distance between string s1 and s2 is\", hamming_distance(s1,s2))"
   ]
  },
  {
   "cell_type": "code",
   "execution_count": null,
   "id": "db9db58b",
   "metadata": {},
   "outputs": [],
   "source": []
  }
 ],
 "metadata": {
  "kernelspec": {
   "display_name": "Python 3 (ipykernel)",
   "language": "python",
   "name": "python3"
  },
  "language_info": {
   "codemirror_mode": {
    "name": "ipython",
    "version": 3
   },
   "file_extension": ".py",
   "mimetype": "text/x-python",
   "name": "python",
   "nbconvert_exporter": "python",
   "pygments_lexer": "ipython3",
   "version": "3.9.12"
  }
 },
 "nbformat": 4,
 "nbformat_minor": 5
}
