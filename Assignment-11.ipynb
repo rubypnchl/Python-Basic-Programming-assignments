{
 "cells": [
  {
   "cell_type": "markdown",
   "id": "6a2ad54b",
   "metadata": {},
   "source": [
    "### 1.\tWrite a Python program to find words which are greater than given length k?"
   ]
  },
  {
   "cell_type": "code",
   "execution_count": 4,
   "id": "cd31473f",
   "metadata": {},
   "outputs": [
    {
     "name": "stdout",
     "output_type": "stream",
     "text": [
      "enter stringHello, I am Ruby Rani and writing Python codes\n",
      "enter length k2\n",
      "['Hello,', 'I', 'am', 'Ruby', 'Rani', 'and', 'writing', 'Python', 'codes']\n",
      "Hello,\n",
      "Ruby\n",
      "Rani\n",
      "and\n",
      "writing\n",
      "Python\n",
      "codes\n"
     ]
    }
   ],
   "source": [
    "s=input(\"enter string\")\n",
    "k=int(input(\"enter length k\"))\n",
    "print(s.split())\n",
    "for i in s.split():\n",
    "    if len(i)>k:\n",
    "        print(i)"
   ]
  },
  {
   "cell_type": "markdown",
   "id": "e3efb32d",
   "metadata": {},
   "source": [
    "### 2.\tWrite a Python program for removing i-th character from a string?"
   ]
  },
  {
   "cell_type": "code",
   "execution_count": 13,
   "id": "6c50d484",
   "metadata": {},
   "outputs": [
    {
     "name": "stdout",
     "output_type": "stream",
     "text": [
      "enter stringHello, Python,welcome to assignments\n",
      "enter ith char location1\n",
      "Hllo, Pthon,welcome t asignments\n"
     ]
    }
   ],
   "source": [
    "s=input(\"enter string\")\n",
    "k=int(input(\"enter ith char location\"))\n",
    "s2=\"\"\n",
    "s3=[]\n",
    "for i in s.split():\n",
    "    s1=[]\n",
    "    for j in range(0,len(i)):\n",
    "        if j==k:\n",
    "            continue\n",
    "        else:\n",
    "            s1.append(i[j])\n",
    "    s2=\"\".join(s1)\n",
    "    s3.append(s2)\n",
    "print(' '.join(s3))"
   ]
  },
  {
   "cell_type": "markdown",
   "id": "3e4b4144",
   "metadata": {},
   "source": [
    "### 3.\tWrite a Python program to split and join a string?"
   ]
  },
  {
   "cell_type": "code",
   "execution_count": 17,
   "id": "61e70f47",
   "metadata": {},
   "outputs": [
    {
     "name": "stdout",
     "output_type": "stream",
     "text": [
      "enter stringWrite a Python program to split and join a string?\n",
      "['Write', 'a', 'Python', 'program', 'to', 'split', 'and', 'join', 'a', 'string?']\n",
      "Write a Python program to split and join a string?\n"
     ]
    }
   ],
   "source": [
    "s=input(\"enter string\")\n",
    "s1=s.split()\n",
    "print(s1)\n",
    "print(\" \".join(s1))"
   ]
  },
  {
   "cell_type": "markdown",
   "id": "054bb491",
   "metadata": {},
   "source": [
    "### 4.\tWrite a Python to check if a given string is binary string or not?"
   ]
  },
  {
   "cell_type": "code",
   "execution_count": 33,
   "id": "7aa8a406",
   "metadata": {},
   "outputs": [
    {
     "name": "stdout",
     "output_type": "stream",
     "text": [
      "enter string111111\n",
      "['1111']\n",
      "1\n",
      "1\n",
      "1\n",
      "1\n",
      "1\n",
      "1\n",
      "string is binary\n"
     ]
    }
   ],
   "source": [
    "s=input(\"enter string\")\n",
    "flag=False\n",
    "#s1=s.split()\n",
    "print(s1)\n",
    "for i in s:\n",
    "    print(i)\n",
    "    if int(i)==0 or int(i)==1:\n",
    "        flag=True\n",
    "    else:\n",
    "        flag=False\n",
    "        break\n",
    "if flag==True:\n",
    "    print(\"string is binary\")\n",
    "else:\n",
    "    print(\"string is not binary\")\n",
    "        "
   ]
  },
  {
   "cell_type": "markdown",
   "id": "e950fce6",
   "metadata": {},
   "source": [
    "### 5.\tWrite a Python program to find uncommon words from two Strings?"
   ]
  },
  {
   "cell_type": "code",
   "execution_count": 41,
   "id": "04d29395",
   "metadata": {},
   "outputs": [
    {
     "name": "stdout",
     "output_type": "stream",
     "text": [
      "enter string 1hello hey hi ruby\n",
      "enter string 2rani rita heya\n",
      "['hello', 'rani', 'rita', 'hi', 'heya', 'ruby', 'hey']\n"
     ]
    }
   ],
   "source": [
    "s1=input(\"enter string 1\")\n",
    "s2=input(\"enter string 2\")\n",
    "s3=[]\n",
    "for i in s1.split():\n",
    "    if i not in s2.split():\n",
    "        s3.append(i)\n",
    "for i in s2.split():\n",
    "    if i not in s1.split():\n",
    "        s3.append(i)\n",
    "s3=list(set(s3))\n",
    "print(s3)"
   ]
  },
  {
   "cell_type": "markdown",
   "id": "839c9fac",
   "metadata": {},
   "source": [
    "### 6.\tWrite a Python to find all duplicate characters in string?"
   ]
  },
  {
   "cell_type": "code",
   "execution_count": 43,
   "id": "8811c614",
   "metadata": {},
   "outputs": [
    {
     "name": "stdout",
     "output_type": "stream",
     "text": [
      "enter string 1111ghgghef6777\n",
      "word_count Counter({'1': 3, 'g': 3, '7': 3, 'h': 2, 'e': 1, 'f': 1, '6': 1})\n",
      "duplicate letter 1\n",
      "duplicate letter g\n",
      "duplicate letter h\n",
      "duplicate letter 7\n"
     ]
    }
   ],
   "source": [
    "from collections import Counter\n",
    "s1=input(\"enter string 1\")\n",
    "word_count=Counter(s1)\n",
    "print(\"word_count\",word_count)\n",
    "for l,c in word_count.items():\n",
    "    if c>1:\n",
    "        print(\"duplicate letter\",l)"
   ]
  },
  {
   "cell_type": "markdown",
   "id": "18ab2808",
   "metadata": {},
   "source": [
    "### 7.\tWrite a Python Program to check if a string contains any special character?"
   ]
  },
  {
   "cell_type": "code",
   "execution_count": 53,
   "id": "f4ed3e60",
   "metadata": {},
   "outputs": [
    {
     "name": "stdout",
     "output_type": "stream",
     "text": [
      "enter string 1hello\n",
      "no special char in string\n"
     ]
    }
   ],
   "source": [
    "s='[@_!#$%^&*()<>?/\\|}{~:]'\n",
    "s1=input(\"enter string 1\")\n",
    "flag=False\n",
    "for i in s1:\n",
    "   #print(\"i\",i)\n",
    "    for j in s:\n",
    "        #prit(\"j\",j)\n",
    "        if i==j:\n",
    "            flag=True\n",
    "            break\n",
    "if flag==True:\n",
    "    print(\"yes, string contains special character\")\n",
    "else:\n",
    "    print(\"no special char in string\")"
   ]
  },
  {
   "cell_type": "code",
   "execution_count": null,
   "id": "71e52fe4",
   "metadata": {},
   "outputs": [],
   "source": []
  }
 ],
 "metadata": {
  "kernelspec": {
   "display_name": "Python 3 (ipykernel)",
   "language": "python",
   "name": "python3"
  },
  "language_info": {
   "codemirror_mode": {
    "name": "ipython",
    "version": 3
   },
   "file_extension": ".py",
   "mimetype": "text/x-python",
   "name": "python",
   "nbconvert_exporter": "python",
   "pygments_lexer": "ipython3",
   "version": "3.9.12"
  }
 },
 "nbformat": 4,
 "nbformat_minor": 5
}
