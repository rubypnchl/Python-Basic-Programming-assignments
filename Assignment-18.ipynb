{
 "cells": [
  {
   "cell_type": "markdown",
   "id": "540cf7b2",
   "metadata": {},
   "source": [
    "### Question 1\n",
    "Create a function that takes a list of non-negative integers and strings and return a new list without the strings.\n",
    "Examples\n",
    "filter_list([1, 2, \"a\", \"b\"]) ➞ [1, 2]\n",
    "\n",
    "filter_list([1, \"a\", \"b\", 0, 15]) ➞ [1, 0, 15]\n",
    "\n",
    "filter_list([1, 2, \"aasf\", \"1\", \"123\", 123]) ➞ [1, 2, 123]\n"
   ]
  },
  {
   "cell_type": "code",
   "execution_count": 3,
   "id": "0aaef235",
   "metadata": {},
   "outputs": [
    {
     "name": "stdout",
     "output_type": "stream",
     "text": [
      "[1, 2]\n",
      "[1, 0, 15]\n",
      "[1, 2, 123]\n"
     ]
    }
   ],
   "source": [
    "def filter_list(l):\n",
    "    filtered_list=[]\n",
    "    for i in l:\n",
    "        if type(i)==str:\n",
    "            continue\n",
    "        else:\n",
    "            filtered_list.append(i)\n",
    "    return filtered_list\n",
    "\n",
    "#driver code\n",
    "print(filter_list([1, 2, \"a\", \"b\"]))\n",
    "print(filter_list([1, \"a\", \"b\", 0, 15]))\n",
    "print(filter_list([1, 2, \"aasf\", \"1\", \"123\", 123]))"
   ]
  },
  {
   "cell_type": "markdown",
   "id": "8fa03081",
   "metadata": {},
   "source": [
    "### Question 2\n",
    "The \"Reverser\" takes a string as input and returns that string in reverse order, with the opposite case.\n",
    "Examples\n",
    "reverse(\"Hello World\") ➞ \"DLROw OLLEh\"\n",
    "\n",
    "reverse(\"ReVeRsE\") ➞ \"eSrEvEr\"\n",
    "\n",
    "reverse(\"Radar\") ➞ \"RADAr\"\n"
   ]
  },
  {
   "cell_type": "code",
   "execution_count": 12,
   "id": "7cc803bd",
   "metadata": {},
   "outputs": [
    {
     "name": "stdout",
     "output_type": "stream",
     "text": [
      "enter stringHello World\n",
      "DLROw OLLEh\n"
     ]
    }
   ],
   "source": [
    "def reverser(s):\n",
    "    s1=''\n",
    "    s=s[::-1]\n",
    "    #print(s)\n",
    "    for i in s:\n",
    "        #print(i)\n",
    "        if i.isupper():\n",
    "            s1+=i.lower()\n",
    "        elif i==' ':\n",
    "            s1+=i\n",
    "        elif i.islower():\n",
    "            s1+=i.upper()\n",
    "    return s1\n",
    "s=input(\"enter string\")\n",
    "print(reverser(s))\n",
    "    "
   ]
  },
  {
   "cell_type": "markdown",
   "id": "f5947038",
   "metadata": {},
   "source": [
    "### Question 3\n",
    "You can assign variables from lists like this:\n",
    "lst = [1, 2, 3, 4, 5, 6]\n",
    "first = lst[0]\n",
    "middle = lst[1:-1]\n",
    "last = lst[-1]\n",
    "\n",
    "print(first) ➞ outputs 1\n",
    "print(middle) ➞ outputs [2, 3, 4, 5]\n",
    "print(last) ➞ outputs 6\n",
    "With Python 3, you can assign variables from lists in a much more succinct way. Create variables first, middle and last from the given list using destructuring assignment (check the Resources tab for some examples), where:\n",
    "first  ➞ 1\n",
    "\n",
    "middle ➞ [2, 3, 4, 5]\n",
    "\n",
    "last ➞ 6\n",
    "Your task is to unpack the list writeyourcodehere into three variables, being first, middle, and last, with middle being everything in between the first and last element. Then print all three variables.\n"
   ]
  },
  {
   "cell_type": "code",
   "execution_count": 13,
   "id": "90f23b30",
   "metadata": {},
   "outputs": [
    {
     "name": "stdout",
     "output_type": "stream",
     "text": [
      "1 [2, 3, 4, 5] 6\n"
     ]
    }
   ],
   "source": [
    "lst=[1,2,3,4,5,6]\n",
    "first=lst[0]\n",
    "middle=lst[1:-1]\n",
    "last=lst[-1]\n",
    "print(first,middle,last)"
   ]
  },
  {
   "cell_type": "markdown",
   "id": "4cd0ad9f",
   "metadata": {},
   "source": [
    "### Question 4\n",
    "Write a function that calculates the factorial of a number recursively.\n",
    "Examples\n",
    "factorial(5) ➞ 120\n",
    "\n",
    "factorial(3) ➞ 6\n",
    "\n",
    "factorial(1) ➞ 1\n",
    "\n",
    "factorial(0) ➞ 1\n"
   ]
  },
  {
   "cell_type": "code",
   "execution_count": 14,
   "id": "9612897b",
   "metadata": {},
   "outputs": [
    {
     "name": "stdout",
     "output_type": "stream",
     "text": [
      "enter number5\n",
      "factorial is 120\n"
     ]
    }
   ],
   "source": [
    "def factorial(n):\n",
    "    if n==1 or n==0:\n",
    "        return 1\n",
    "    else:\n",
    "        return n*factorial(n-1)\n",
    "    \n",
    "n=int(input(\"enter number\"))\n",
    "print(\"factorial is\",factorial(n))"
   ]
  },
  {
   "cell_type": "markdown",
   "id": "7a3c9ecf",
   "metadata": {},
   "source": [
    "### Question 5\n",
    "Write a function that moves all elements of one type to the end of the list.\n",
    "Examples\n",
    "move_to_end([1, 3, 2, 4, 4, 1], 1) ➞ [3, 2, 4, 4, 1, 1]\n",
    "# Move all the 1s to the end of the array.\n",
    "\n",
    "move_to_end([7, 8, 9, 1, 2, 3, 4], 9) ➞ [7, 8, 1, 2, 3, 4, 9]\n",
    "\n",
    "move_to_end([\"a\", \"a\", \"a\", \"b\"], \"a\") ➞ [\"b\", \"a\", \"a\", \"a\"]\n"
   ]
  },
  {
   "cell_type": "code",
   "execution_count": 22,
   "id": "b702e2af",
   "metadata": {},
   "outputs": [
    {
     "name": "stdout",
     "output_type": "stream",
     "text": [
      "enter list size7\n",
      "enter e9\n",
      "7\n",
      "8\n",
      "9\n",
      "1\n",
      "2\n",
      "3\n",
      "4\n",
      "['7', '8', '1', '2', '3', '4', '9']\n"
     ]
    }
   ],
   "source": [
    "def move_to_end(lst,e):\n",
    "    lst1=[]\n",
    "    l=len(lst)-1\n",
    "    count=0\n",
    "    for i in range(0,len(lst)):\n",
    "        if lst[i]==e:\n",
    "            #print(lst[i])\n",
    "            lst1.insert(l,lst[i])\n",
    "            #print(lst1)\n",
    "            l=l-1\n",
    "            #print(l)\n",
    "        else:\n",
    "            lst1.insert(count,lst[i])\n",
    "            count=count+1\n",
    "            #print()\n",
    "    #print(lst1)\n",
    "    return lst1\n",
    "        \n",
    "n=int(input(\"enter list size\"))\n",
    "e=input(\"enter e\")\n",
    "lst=[]\n",
    "for i in range(0,n):\n",
    "    j=input()\n",
    "    lst.append(j)\n",
    "print(move_to_end(lst,e))"
   ]
  },
  {
   "cell_type": "code",
   "execution_count": null,
   "id": "25e02aad",
   "metadata": {},
   "outputs": [],
   "source": []
  }
 ],
 "metadata": {
  "kernelspec": {
   "display_name": "Python 3 (ipykernel)",
   "language": "python",
   "name": "python3"
  },
  "language_info": {
   "codemirror_mode": {
    "name": "ipython",
    "version": 3
   },
   "file_extension": ".py",
   "mimetype": "text/x-python",
   "name": "python",
   "nbconvert_exporter": "python",
   "pygments_lexer": "ipython3",
   "version": "3.9.12"
  }
 },
 "nbformat": 4,
 "nbformat_minor": 5
}
