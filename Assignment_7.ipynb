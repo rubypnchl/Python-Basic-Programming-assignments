{
 "cells": [
  {
   "cell_type": "markdown",
   "id": "b71e2bfc",
   "metadata": {},
   "source": [
    "### 1.\tWrite a Python Program to find sum of array?"
   ]
  },
  {
   "cell_type": "code",
   "execution_count": 1,
   "id": "d783f8ba",
   "metadata": {},
   "outputs": [
    {
     "name": "stdout",
     "output_type": "stream",
     "text": [
      "sum is 15\n"
     ]
    }
   ],
   "source": [
    "def array_sum(n):\n",
    "    s=0\n",
    "    for i in range(0,len(n)):\n",
    "        s=s+n[i]\n",
    "    return s\n",
    "a=[1,2,3,4,5]\n",
    "s=array_sum(a)\n",
    "print(\"sum is\",s)"
   ]
  },
  {
   "cell_type": "markdown",
   "id": "0bdcc16f",
   "metadata": {},
   "source": [
    "### 2.\tWrite a Python Program to find largest element in an array?"
   ]
  },
  {
   "cell_type": "code",
   "execution_count": 6,
   "id": "d7352286",
   "metadata": {},
   "outputs": [
    {
     "name": "stdout",
     "output_type": "stream",
     "text": [
      "largest num is 92\n"
     ]
    }
   ],
   "source": [
    "def largest_num(n):\n",
    "    l=0\n",
    "    for i in range(0,len(n)):\n",
    "        if n[i]>l:\n",
    "            l=n[i]\n",
    "        else:\n",
    "            continue\n",
    "    return l\n",
    "a=[92,44,33,55,86,69]\n",
    "s=largest_num(a)\n",
    "print(\"largest num is\",s)"
   ]
  },
  {
   "cell_type": "markdown",
   "id": "3699f35e",
   "metadata": {},
   "source": [
    "### 3.\tWrite a Python Program for array rotation?"
   ]
  },
  {
   "cell_type": "code",
   "execution_count": 18,
   "id": "c0413746",
   "metadata": {},
   "outputs": [
    {
     "name": "stdout",
     "output_type": "stream",
     "text": [
      "enter length of list5\n",
      "enter number1\n",
      "enter number2\n",
      "enter number3\n",
      "enter number4\n",
      "enter number5\n",
      "list before rotation [1, 2, 3, 4, 5]\n",
      "enter number of shifts2\n",
      "temp array [3, 4, 5]\n",
      "temp array [3, 4, 5, 1, 2]\n",
      "array after shifting [3, 4, 5, 1, 2]\n"
     ]
    }
   ],
   "source": [
    "def rotateArray(a,d):\n",
    "    temp = []\n",
    "    n=len(a)\n",
    "    for i in range(d,n):\n",
    "        temp.append(a[i])\n",
    "    print(\"temp array\",temp)\n",
    "    i = 0\n",
    "    for i in range (0,d):\n",
    "        temp.append(a[i])\n",
    "    print(\"temp array\",temp)\n",
    "    a=temp.copy()\n",
    "    return a\n",
    " \n",
    "l=int(input(\"enter length of list\"))\n",
    "a=[]\n",
    "for i in range(0,l):\n",
    "    n1=int(input(\"enter number\"))\n",
    "    a.append(n1)\n",
    "print(\"list before rotation\",a)\n",
    "d=int(input(\"enter number of shifts\"))\n",
    "#a=[92,44,33,55,86,69]\n",
    "s=rotateArray(a,d)\n",
    "print(\"array after shifting\",s)\n",
    "        \n",
    "        "
   ]
  },
  {
   "cell_type": "markdown",
   "id": "0fe25a9f",
   "metadata": {},
   "source": [
    "#### 4.\tWrite a Python Program to Split the array and add the first part to the end?"
   ]
  },
  {
   "cell_type": "code",
   "execution_count": 19,
   "id": "cea2f45d",
   "metadata": {},
   "outputs": [
    {
     "name": "stdout",
     "output_type": "stream",
     "text": [
      "enter length of list5\n",
      "enter number1\n",
      "enter number2\n",
      "enter number3\n",
      "enter number4\n",
      "enter number5\n",
      "list before rotation [1, 2, 3, 4, 5]\n",
      "enter number of shifts2\n",
      "array after shifting [3, 4, 5, 1, 2]\n"
     ]
    }
   ],
   "source": [
    "def splitArray(n,d):\n",
    "    temp=n[d:]+n[:d]\n",
    "    return temp\n",
    "l=int(input(\"enter length of list\"))\n",
    "a=[]\n",
    "for i in range(0,l):\n",
    "    n1=int(input(\"enter number\"))\n",
    "    a.append(n1)\n",
    "print(\"list before rotation\",a)\n",
    "d=int(input(\"enter number of shifts\"))\n",
    "s=splitArray(a,d)\n",
    "print(\"array after shifting\",s)"
   ]
  },
  {
   "cell_type": "markdown",
   "id": "627baa1d",
   "metadata": {},
   "source": [
    "### 5.\tWrite a Python Program to check if given array is Monotonic?"
   ]
  },
  {
   "cell_type": "code",
   "execution_count": 32,
   "id": "969edf21",
   "metadata": {},
   "outputs": [
    {
     "name": "stdout",
     "output_type": "stream",
     "text": [
      "enter length of list6\n",
      "enter number2\n",
      "enter number1\n",
      "enter number4\n",
      "enter number5\n",
      "enter number3\n",
      "enter number7\n"
     ]
    },
    {
     "data": {
      "text/plain": [
       "False"
      ]
     },
     "execution_count": 32,
     "metadata": {},
     "output_type": "execute_result"
    }
   ],
   "source": [
    "def monotonicArray(A):\n",
    "    return (all(A[i] <= A[i + 1] for i in range(len(A) - 1)) or\n",
    "            all(A[i] >= A[i + 1] for i in range(len(A) - 1)))\n",
    "\n",
    "l=int(input(\"enter length of list\"))\n",
    "a=[]\n",
    "for i in range(0,l):\n",
    "    n1=int(input(\"enter number\"))\n",
    "    a.append(n1)\n",
    "monotonicArray(a)"
   ]
  },
  {
   "cell_type": "code",
   "execution_count": null,
   "id": "05ee50a9",
   "metadata": {},
   "outputs": [],
   "source": []
  }
 ],
 "metadata": {
  "kernelspec": {
   "display_name": "Python 3 (ipykernel)",
   "language": "python",
   "name": "python3"
  },
  "language_info": {
   "codemirror_mode": {
    "name": "ipython",
    "version": 3
   },
   "file_extension": ".py",
   "mimetype": "text/x-python",
   "name": "python",
   "nbconvert_exporter": "python",
   "pygments_lexer": "ipython3",
   "version": "3.9.12"
  }
 },
 "nbformat": 4,
 "nbformat_minor": 5
}
