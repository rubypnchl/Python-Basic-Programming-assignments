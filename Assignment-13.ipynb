{
 "cells": [
  {
   "cell_type": "markdown",
   "id": "01c94ebe",
   "metadata": {},
   "source": [
    "### Question 1:\n",
    "\n",
    "Write a program that calculates and prints the value according to the given formula:\n",
    "\n",
    "Q = Square root of [(2 * C * D)/H]\n",
    "\n",
    "Following are the fixed values of C and H:\n",
    "\n",
    "C is 50. H is 30.\n",
    "\n",
    "D is the variable whose values should be input to your program in a comma-separated sequence.\n",
    "\n",
    "Example\n",
    "\n",
    "Let us assume the following comma separated input sequence is given to the program:\n",
    "\n",
    "100,150,180\n",
    "\n",
    "The output of the program should be:\n",
    "\n",
    "18,22,24\n"
   ]
  },
  {
   "cell_type": "code",
   "execution_count": 3,
   "id": "50bfce17",
   "metadata": {},
   "outputs": [
    {
     "name": "stdout",
     "output_type": "stream",
     "text": [
      "enter D100\n",
      "the program output is 18\n",
      "enter D150\n",
      "the program output is 22\n",
      "enter D180\n",
      "the program output is 24\n"
     ]
    }
   ],
   "source": [
    "import math\n",
    "def squre_root(C,D,H):\n",
    "    Q=math.sqrt((2*C*D)/H)\n",
    "    return int(Q)\n",
    "\n",
    "C=50\n",
    "H=30\n",
    "for i in range(0,3):\n",
    "    D=int(input(\"enter D\"))\n",
    "    print(\"the program output is\",squre_root(C,D,H))"
   ]
  },
  {
   "cell_type": "markdown",
   "id": "4cf9a9d6",
   "metadata": {},
   "source": [
    "### Question 2:\n",
    "'''\n",
    "Write a program which takes 2 digits, X,Y as input and generates a 2-dimensional array. The element value in the i-th row and j-th column of the array should be i*j.\n",
    "\n",
    "Note: i=0,1.., X-1; j=0,1,¡¬Y-1.\n",
    "\n",
    "Example\n",
    "\n",
    "Suppose the following inputs are given to the program:\n",
    "\n",
    "3,5\n",
    "\n",
    "Then, the output of the program should be:\n",
    "\n",
    "[[0, 0, 0, 0, 0], [0, 1, 2, 3, 4], [0, 2, 4, 6, 8]] \n",
    "\n",
    "'''"
   ]
  },
  {
   "cell_type": "code",
   "execution_count": 4,
   "id": "53bb265f",
   "metadata": {},
   "outputs": [
    {
     "name": "stdout",
     "output_type": "stream",
     "text": [
      "Enter X3\n",
      "Enter Y5\n",
      "the resultant matrix is [[0, 0, 0, 0, 0], [0, 1, 2, 3, 4], [0, 2, 4, 6, 8]]\n"
     ]
    }
   ],
   "source": [
    "def matrices_multi(X,Y):\n",
    "    mat=[]\n",
    "    for i in range(0,X):\n",
    "        temp_mat=[]\n",
    "        for j in range(0,Y):\n",
    "            t=i*j\n",
    "            temp_mat.append(t)\n",
    "        mat.append(temp_mat)\n",
    "    return mat\n",
    "X=int(input(\"Enter X\"))\n",
    "Y=int(input(\"Enter Y\"))\n",
    "print(\"the resultant matrix is\",matrices_multi(X,Y))"
   ]
  },
  {
   "cell_type": "markdown",
   "id": "c311d0c3",
   "metadata": {},
   "source": [
    "### Question 3:\n",
    "Write a program that accepts a comma separated sequence of words as input and prints the words in a comma-separated sequence after sorting them alphabetically.\n",
    "\n",
    "Suppose the following input is supplied to the program:\n",
    "\n",
    "without,hello,bag,world\n",
    "\n",
    "Then, the output should be:\n",
    "\n",
    "bag,hello,without,world\n"
   ]
  },
  {
   "cell_type": "code",
   "execution_count": 21,
   "id": "3b04e8fa",
   "metadata": {},
   "outputs": [
    {
     "name": "stdout",
     "output_type": "stream",
     "text": [
      "enter words sequencewithout,hello,bag,world\n",
      "bag\n",
      "hello\n",
      "without\n",
      "world\n",
      "bag,hello,without,world\n"
     ]
    }
   ],
   "source": [
    "word_seq=input(\"enter words sequence\")\n",
    "w1=[]\n",
    "w1=word_seq.split(\",\")\n",
    "for w in sorted(w1):\n",
    "    print(w)\n",
    "print(\",\".join(sorted(w1)))\n"
   ]
  },
  {
   "cell_type": "markdown",
   "id": "d9535c2e",
   "metadata": {},
   "source": [
    "### Question 4:\n",
    "Write a program that accepts a sequence of whitespace separated words as input and prints the words after removing all duplicate words and sorting them alphanumerically.\n",
    "\n",
    "Suppose the following input is supplied to the program:\n",
    "\n",
    "hello world and practice makes perfect and hello world again\n",
    "\n",
    "Then, the output should be:\n",
    "\n",
    "again and hello makes perfect practice world\n"
   ]
  },
  {
   "cell_type": "code",
   "execution_count": 23,
   "id": "9e15ecdf",
   "metadata": {},
   "outputs": [
    {
     "name": "stdout",
     "output_type": "stream",
     "text": [
      "enter words sequencehello world and practice makes perfect and hello world again\n",
      "again\n",
      "and\n",
      "and\n",
      "hello\n",
      "hello\n",
      "makes\n",
      "perfect\n",
      "practice\n",
      "world\n",
      "world\n",
      "again and hello makes perfect practice world\n"
     ]
    }
   ],
   "source": [
    "word_seq=input(\"enter words sequence\")\n",
    "w1=[]\n",
    "w1=word_seq.split(\" \")\n",
    "for w in sorted(w1):\n",
    "    print(w)\n",
    "print(\" \".join(sorted(set(w1))))"
   ]
  },
  {
   "cell_type": "markdown",
   "id": "7925a336",
   "metadata": {},
   "source": [
    "### Question 5:\n",
    "Write a program that accepts a sentence and calculate the number of letters and digits.\n",
    "\n",
    "Suppose the following input is supplied to the program:\n",
    "\n",
    "hello world! 123\n",
    "\n",
    "Then, the output should be:\n",
    "\n",
    "LETTERS 10\n",
    "\n",
    "DIGITS 3\n"
   ]
  },
  {
   "cell_type": "code",
   "execution_count": 32,
   "id": "89f70cfe",
   "metadata": {},
   "outputs": [
    {
     "name": "stdout",
     "output_type": "stream",
     "text": [
      "enter sentencehello world! 123\n",
      "1\n",
      "2\n",
      "3\n",
      "4\n",
      "5\n",
      "6\n",
      "7\n",
      "8\n",
      "9\n",
      "10\n",
      "letters 10\n",
      "digits 3\n"
     ]
    }
   ],
   "source": [
    "word_seq=input(\"enter sentence\")\n",
    "letters=0\n",
    "digits=0\n",
    "d='1234567890'\n",
    "p='''!\"#$%&'()*+, -./:;<=>?@[\\]^_`{|}~'''\n",
    "for i in word_seq.split(\" \"):\n",
    "    #print(len(i))\n",
    "    for j in range(0,len(i)):\n",
    "        if i[j] in d:\n",
    "            digits=digits+1\n",
    "        elif i[j] in p:\n",
    "            continue\n",
    "        else:\n",
    "            letters=letters+1\n",
    "            print(letters)\n",
    "print(\"letters\",letters)\n",
    "print(\"digits\",digits)"
   ]
  },
  {
   "cell_type": "markdown",
   "id": "3f0700c4",
   "metadata": {},
   "source": [
    "### Question 6:\n",
    "A website requires the users to input username and password to register. Write a program to check the validity of password input by users.\n",
    "\n",
    "Following are the criteria for checking the password:\n",
    "\n",
    "1. At least 1 letter between [a-z]\n",
    "\n",
    "2. At least 1 number between [0-9]\n",
    "\n",
    "1. At least 1 letter between [A-Z]\n",
    "\n",
    "3. At least 1 character from [$#@]\n",
    "\n",
    "4. Minimum length of transaction password: 6\n",
    "\n",
    "5. Maximum length of transaction password: 12\n",
    "\n",
    "Your program should accept a sequence of comma separated passwords and will check them according to the above criteria. Passwords that match the criteria are to be printed, each separated by a comma.\n",
    "\n",
    "Example\n",
    "\n",
    "If the following passwords are given as input to the program:\n",
    "\n",
    "ABd1234@1,a F1#,2w3E*,2We3345\n",
    "\n",
    "Then, the output of the program should be:\n",
    "\n",
    "ABd1234@1\n"
   ]
  },
  {
   "cell_type": "code",
   "execution_count": 69,
   "id": "c07378d4",
   "metadata": {},
   "outputs": [
    {
     "name": "stdout",
     "output_type": "stream",
     "text": [
      "Input your password: 2We3345\n",
      "Not a Valid Password\n"
     ]
    }
   ],
   "source": [
    "import re\n",
    "password= input(\"Input your password: \")\n",
    "x = True\n",
    "while x:  \n",
    "    if (len(password)<6 or len(password)>12):\n",
    "        break\n",
    "    elif not re.search(\"[a-z]\",password):\n",
    "        break\n",
    "    elif not re.search(\"[0-9]\",password):\n",
    "        break\n",
    "    elif not re.search(\"[A-Z]\",password):\n",
    "        break\n",
    "    elif not re.search(\"[$#@]\",password):\n",
    "        break\n",
    "    elif re.search(\"\\s\",password):\n",
    "        break\n",
    "    else:\n",
    "        print(\"Valid Password\")\n",
    "        x=False\n",
    "        break\n",
    "        \n",
    "if x:\n",
    "    print(\"Not a Valid Password\")"
   ]
  },
  {
   "cell_type": "code",
   "execution_count": null,
   "id": "c05a0b7f",
   "metadata": {},
   "outputs": [],
   "source": []
  }
 ],
 "metadata": {
  "kernelspec": {
   "display_name": "Python 3 (ipykernel)",
   "language": "python",
   "name": "python3"
  },
  "language_info": {
   "codemirror_mode": {
    "name": "ipython",
    "version": 3
   },
   "file_extension": ".py",
   "mimetype": "text/x-python",
   "name": "python",
   "nbconvert_exporter": "python",
   "pygments_lexer": "ipython3",
   "version": "3.9.12"
  }
 },
 "nbformat": 4,
 "nbformat_minor": 5
}
