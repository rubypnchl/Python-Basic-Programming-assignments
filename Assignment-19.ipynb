{
 "cells": [
  {
   "cell_type": "markdown",
   "id": "fecf697e",
   "metadata": {},
   "source": [
    "### Question1\n",
    "Create a function that takes a string and returns a string in which each character is repeated once.\n",
    "Examples\n",
    "double_char(\"String\") ➞ \"SSttrriinngg\"\n",
    "\n",
    "double_char(\"Hello World!\") ➞ \"HHeelllloo  WWoorrlldd!!\"\n",
    "\n",
    "double_char(\"1234!_ \") ➞ \"11223344!!__  \"\n"
   ]
  },
  {
   "cell_type": "code",
   "execution_count": 1,
   "id": "500a7b3e",
   "metadata": {},
   "outputs": [
    {
     "name": "stdout",
     "output_type": "stream",
     "text": [
      "enter stringString\n",
      "SSttrriinngg\n"
     ]
    }
   ],
   "source": [
    "def double_char(s):\n",
    "    s1=''\n",
    "    for i in s:\n",
    "        s1=s1+(i*2)\n",
    "    return s1\n",
    "\n",
    "s=input(\"enter string\")\n",
    "print(double_char(s))"
   ]
  },
  {
   "cell_type": "markdown",
   "id": "ffcb430c",
   "metadata": {},
   "source": [
    "### Question2\n",
    "Create a function that reverses a boolean value and returns the string \"boolean expected\" if another variable type is given.\n",
    "Examples\n",
    "reverse(True) ➞ False\n",
    "\n",
    "reverse(False) ➞ True\n",
    "\n",
    "reverse(0) ➞ \"boolean expected\"\n",
    "\n",
    "reverse(None) ➞ \"boolean expected\"\n"
   ]
  },
  {
   "cell_type": "code",
   "execution_count": 2,
   "id": "f71efc76",
   "metadata": {},
   "outputs": [
    {
     "name": "stdout",
     "output_type": "stream",
     "text": [
      "False\n",
      "True\n",
      "True\n",
      "True\n"
     ]
    }
   ],
   "source": [
    "def reverse(b):\n",
    "    if b==True:\n",
    "        return False\n",
    "    else:\n",
    "        return True\n",
    "print(reverse(True))\n",
    "print(reverse(False))\n",
    "print(reverse(0))\n",
    "print(reverse(None))\n",
    "        "
   ]
  },
  {
   "cell_type": "markdown",
   "id": "9b488a7b",
   "metadata": {},
   "source": [
    "### Question3\n",
    "Create a function that returns the thickness (in meters) of a piece of paper after folding it n number of times. The paper starts off with a thickness of 0.5mm.\n",
    "Examples\n",
    "num_layers(1) ➞ \"0.001m\"\n",
    "##### Paper folded once is 1mm (equal to 0.001m)\n",
    "\n",
    "num_layers(4) ➞ \"0.008m\"\n",
    "##### Paper folded 4 times is 8mm (equal to 0.008m)\n",
    "\n",
    "num_layers(21) ➞ \"1048.576m\"\n",
    "##### Paper folded 21 times is 1048576mm (equal to 1048.576m)\n"
   ]
  },
  {
   "cell_type": "code",
   "execution_count": 7,
   "id": "ba3d87e8",
   "metadata": {},
   "outputs": [
    {
     "name": "stdout",
     "output_type": "stream",
     "text": [
      "enter number of folds21\n",
      "1048.576m\n"
     ]
    }
   ],
   "source": [
    "def num_layers(n):\n",
    "    \n",
    "    thickness=0.5\n",
    "    for i in range(n):\n",
    "        thickness*=2\n",
    "    return str(thickness/1000)+'m'\n",
    "n=int(input(\"enter number of folds\"))\n",
    "print(num_layers(n))"
   ]
  },
  {
   "cell_type": "markdown",
   "id": "24b2aaf4",
   "metadata": {},
   "source": [
    "### Question4\n",
    "Create a function that takes a single string as argument and returns an ordered list containing the indices of all capital letters in the string.\n",
    "Examples\n",
    "index_of_caps(\"eDaBiT\") ➞ [1, 3, 5]\n",
    "\n",
    "index_of_caps(\"eQuINoX\") ➞ [1, 3, 4, 6]\n",
    "\n",
    "index_of_caps(\"determine\") ➞ []\n",
    "\n",
    "index_of_caps(\"STRIKE\") ➞ [0, 1, 2, 3, 4, 5]\n",
    "\n",
    "index_of_caps(\"sUn\") ➞ [1]\n"
   ]
  },
  {
   "cell_type": "code",
   "execution_count": 9,
   "id": "30533cc2",
   "metadata": {},
   "outputs": [
    {
     "name": "stdout",
     "output_type": "stream",
     "text": [
      "enter stringeDaBiT\n",
      "index os capital letters [1, 3, 5]\n"
     ]
    }
   ],
   "source": [
    "def index_of_caps(s):\n",
    "    index_list=[]\n",
    "    for i in range(0,len(s)):\n",
    "        if s[i].isupper():\n",
    "            index_list.append(i)\n",
    "    return index_list\n",
    "s=input(\"enter string\")\n",
    "print(\"index os capital letters\",index_of_caps(s))"
   ]
  },
  {
   "cell_type": "markdown",
   "id": "00f08e0d",
   "metadata": {},
   "source": [
    "### Question5\n",
    "Using list comprehensions, create a function that finds all even numbers from 1 to the given number.\n",
    "Examples\n",
    "find_even_nums(8) ➞ [2, 4, 6, 8]\n",
    "\n",
    "find_even_nums(4) ➞ [2, 4]\n",
    "\n",
    "find_even_nums(2) ➞ [2]\n"
   ]
  },
  {
   "cell_type": "code",
   "execution_count": 11,
   "id": "743140c1",
   "metadata": {},
   "outputs": [
    {
     "name": "stdout",
     "output_type": "stream",
     "text": [
      "enter number8\n",
      "[2, 4, 6]\n"
     ]
    }
   ],
   "source": [
    "def find_even_nums(n):\n",
    "    nums=[x for x in range(2,n) if x%2==0]\n",
    "    return nums\n",
    "\n",
    "n=int(input(\"enter number\"))\n",
    "print(find_even_nums(n))"
   ]
  },
  {
   "cell_type": "code",
   "execution_count": null,
   "id": "3cb301cf",
   "metadata": {},
   "outputs": [],
   "source": []
  }
 ],
 "metadata": {
  "kernelspec": {
   "display_name": "Python 3 (ipykernel)",
   "language": "python",
   "name": "python3"
  },
  "language_info": {
   "codemirror_mode": {
    "name": "ipython",
    "version": 3
   },
   "file_extension": ".py",
   "mimetype": "text/x-python",
   "name": "python",
   "nbconvert_exporter": "python",
   "pygments_lexer": "ipython3",
   "version": "3.9.12"
  }
 },
 "nbformat": 4,
 "nbformat_minor": 5
}
