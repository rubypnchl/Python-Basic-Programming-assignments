{
 "cells": [
  {
   "cell_type": "markdown",
   "id": "bd456f4a",
   "metadata": {},
   "source": [
    "### Question 1:\n",
    "\n",
    "Define a class with a generator which can iterate the numbers, which are divisible by 7, between a given range 0 and n.\n"
   ]
  },
  {
   "cell_type": "code",
   "execution_count": 6,
   "id": "b3cc1ac2",
   "metadata": {},
   "outputs": [
    {
     "name": "stdout",
     "output_type": "stream",
     "text": [
      "enter number14\n",
      "0\n",
      "7\n"
     ]
    }
   ],
   "source": [
    "class num_gen:\n",
    "    def __init__(self,n):\n",
    "        self.n=n\n",
    "    def generator(self):\n",
    "        for i in range(0,self.n):\n",
    "            if i%7==0:\n",
    "                print(i)\n",
    "            else:\n",
    "                pass\n",
    "\n",
    "n=int(input(\"enter number\"))\n",
    "ng=num_gen(n)\n",
    "ng.generator()"
   ]
  },
  {
   "cell_type": "markdown",
   "id": "8bff844b",
   "metadata": {},
   "source": [
    "### Question 2:\n",
    "Write a program to compute the frequency of the words from the input. The output should output after sorting the key alphanumerically. \n",
    "\n",
    "Suppose the following input is supplied to the program:\n",
    "\n",
    "New to Python or choosing between Python 2 and Python 3? Read Python 2 or Python 3.\n",
    "\n",
    "Then, the output should be:\n",
    "\n",
    "2:2\n",
    "\n",
    "3.:1\n",
    "\n",
    "3?:1\n",
    "\n",
    "New:1\n",
    "\n",
    "Python:5\n",
    "\n",
    "Read:1\n",
    "\n",
    "and:1\n",
    "\n",
    "between:1\n",
    "\n",
    "choosing:1\n",
    "\n",
    "or:2\n",
    "\n",
    "to:1\n"
   ]
  },
  {
   "cell_type": "code",
   "execution_count": 25,
   "id": "6312a324",
   "metadata": {},
   "outputs": [
    {
     "name": "stdout",
     "output_type": "stream",
     "text": [
      "enter stringNew to Python or choosing between Python 2 and Python 3? Read Python 2 or Python 3\n",
      "New to Python or choosing between Python 2 and Python 3? Read Python 2 or Python 3\n",
      "2 2\n",
      "3 1\n",
      "3? 1\n",
      "New 1\n",
      "Python 5\n",
      "Read 1\n",
      "and 1\n",
      "between 1\n",
      "choosing 1\n",
      "or 2\n",
      "to 1\n"
     ]
    }
   ],
   "source": [
    "class arrange:\n",
    "    def __init__(self,s):\n",
    "        self.s=s\n",
    "        \n",
    "    def string_words(self):\n",
    "        s1=self.s\n",
    "        s1=s1.split()\n",
    "        s2=sorted(s1)\n",
    "        print(s)\n",
    "        for i in sorted(list(set(s1))):\n",
    "            print(i,s2.count(i))\n",
    "            \n",
    "            \n",
    "s=input(\"enter string\")\n",
    "a=arrange(s)\n",
    "a.string_words()"
   ]
  },
  {
   "cell_type": "markdown",
   "id": "aeede913",
   "metadata": {},
   "source": [
    "### Question 3:\n",
    "\n",
    "\n",
    "\n",
    "Define a class Person and its two child classes: Male and Female. All classes have a method \"getGender\" which can print \"Male\" for Male class and \"Female\" for Female class.\n"
   ]
  },
  {
   "cell_type": "code",
   "execution_count": 27,
   "id": "3b1e934c",
   "metadata": {},
   "outputs": [
    {
     "name": "stdout",
     "output_type": "stream",
     "text": [
      "male\n",
      "female\n"
     ]
    }
   ],
   "source": [
    "class person:\n",
    "    def __init__(self):\n",
    "        pass\n",
    "    def __str__(self):\n",
    "        print(\"parent\")\n",
    "        \n",
    "class male(person):\n",
    "    def __init__(self):\n",
    "        pass\n",
    "    def getGender(self):\n",
    "        print(\"male\")\n",
    "\n",
    "class female(person):\n",
    "    def __init__(self):\n",
    "        pass\n",
    "    def getGender(self):\n",
    "        print(\"female\")\n",
    "m=male()\n",
    "m.getGender()\n",
    "f=female()\n",
    "f.getGender()\n"
   ]
  },
  {
   "cell_type": "markdown",
   "id": "8a155cbc",
   "metadata": {},
   "source": [
    "### Question 4:\n",
    "Please write a program to generate all sentences where subject is in [\"I\", \"You\"] and verb is in [\"Play\", \"Love\"] and the object is in [\"Hockey\",\"Football\"].\n"
   ]
  },
  {
   "cell_type": "code",
   "execution_count": 45,
   "id": "9f449468",
   "metadata": {},
   "outputs": [
    {
     "name": "stdout",
     "output_type": "stream",
     "text": [
      "I Play Hockey\n",
      "I Play Football\n",
      "I Love Hockey\n",
      "I Love Football\n",
      "You Play Hockey\n",
      "You Play Football\n",
      "You Love Hockey\n",
      "You Love Football\n"
     ]
    }
   ],
   "source": [
    "sub=[\"I\", \"You\"]\n",
    "verb=[\"Play\", \"Love\"]\n",
    "obj=[\"Hockey\",\"Football\"]\n",
    "for i in sub:\n",
    "    for j in verb:\n",
    "        for k in obj:\n",
    "            print(\"{} {} {}\".format(i,j,k))"
   ]
  },
  {
   "cell_type": "markdown",
   "id": "5dc8d6f4",
   "metadata": {},
   "source": [
    "### Question 5:\n",
    "Please write a program to compress and decompress the string \"hello world!hello world!hello world!hello world!\".\n"
   ]
  },
  {
   "cell_type": "code",
   "execution_count": 57,
   "id": "58bf7564",
   "metadata": {},
   "outputs": [
    {
     "name": "stdout",
     "output_type": "stream",
     "text": [
      "b'x\\x9c\\xcbH\\xcd\\xc9\\xc9W(\\xcf/\\xcaIQ\\xcc \\x82\\r\\x00\\xbd[\\x11\\xf5'\n",
      "b'hello world!hello world!hello world!hello world!'\n"
     ]
    }
   ],
   "source": [
    "s = 'hello world!hello world!hello world!hello world!'\n",
    "y = bytes(s, 'utf-8')\n",
    "x = zlib.compress(y)\n",
    "print(x)      ##in python zlib() compresses accepyts only bytes data types\n",
    "print(zlib.decompress(x))"
   ]
  },
  {
   "cell_type": "markdown",
   "id": "b40ec3ae",
   "metadata": {},
   "source": [
    "### Question 6:\n",
    "Please write a binary search function which searches an item in a sorted list. The function should return the index of element to be searched in the list.\n"
   ]
  },
  {
   "cell_type": "code",
   "execution_count": 7,
   "id": "5ab9884e",
   "metadata": {},
   "outputs": [
    {
     "name": "stdout",
     "output_type": "stream",
     "text": [
      "element index is 0\n"
     ]
    }
   ],
   "source": [
    "def binarySearch(arr,i,j,x):\n",
    "    while i<=j:\n",
    "        mid=i+(j-1)//2\n",
    "        if arr[mid]==x:\n",
    "            return mid\n",
    "        elif arr[mid]<x:\n",
    "            ##recursion-> calling same funtion with different parameters\n",
    "            return binarySearch(arr,mid+1,j,x)\n",
    "        else:\n",
    "            return binarySearch(arr,i,mid-1,x)\n",
    "    return -1\n",
    "\n",
    "\n",
    "arr=[10,20,30,45,60,65,78,80,90]\n",
    "x=10\n",
    "i=0\n",
    "j=len(arr)-1\n",
    "result=binarySearch(arr,i,j,x)\n",
    "\n",
    "print(\"element index is\",result)"
   ]
  },
  {
   "cell_type": "code",
   "execution_count": null,
   "id": "142bbf5f",
   "metadata": {},
   "outputs": [],
   "source": []
  }
 ],
 "metadata": {
  "kernelspec": {
   "display_name": "Python 3 (ipykernel)",
   "language": "python",
   "name": "python3"
  },
  "language_info": {
   "codemirror_mode": {
    "name": "ipython",
    "version": 3
   },
   "file_extension": ".py",
   "mimetype": "text/x-python",
   "name": "python",
   "nbconvert_exporter": "python",
   "pygments_lexer": "ipython3",
   "version": "3.9.12"
  }
 },
 "nbformat": 4,
 "nbformat_minor": 5
}
