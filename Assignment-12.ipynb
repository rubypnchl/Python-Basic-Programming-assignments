{
 "cells": [
  {
   "cell_type": "markdown",
   "id": "43f7df16",
   "metadata": {},
   "source": [
    "### 1.\tWrite a Python program to Extract Unique values dictionary values?"
   ]
  },
  {
   "cell_type": "code",
   "execution_count": 7,
   "id": "7786ac9c",
   "metadata": {},
   "outputs": [
    {
     "name": "stdout",
     "output_type": "stream",
     "text": [
      "2\n",
      "3\n",
      "1\n",
      "4\n",
      "1\n"
     ]
    }
   ],
   "source": [
    "d={'A':2,'B':3,'C':1,'D':4,'E':1}\n",
    "for i in d.values():\n",
    "    print(i)"
   ]
  },
  {
   "cell_type": "markdown",
   "id": "b03f744c",
   "metadata": {},
   "source": [
    "### 2.\tWrite a Python program to find the sum of all items in a dictionary?"
   ]
  },
  {
   "cell_type": "code",
   "execution_count": 9,
   "id": "527d204f",
   "metadata": {},
   "outputs": [
    {
     "name": "stdout",
     "output_type": "stream",
     "text": [
      "sum of all items in dictionary is 11\n"
     ]
    }
   ],
   "source": [
    "s=0\n",
    "for i in d.values():\n",
    "    s=s+i\n",
    "print(\"sum of all items in dictionary is\",s)"
   ]
  },
  {
   "cell_type": "markdown",
   "id": "648bb488",
   "metadata": {},
   "source": [
    "### 3.\tWrite a Python program to Merging two Dictionaries?"
   ]
  },
  {
   "cell_type": "code",
   "execution_count": 11,
   "id": "37c2296c",
   "metadata": {},
   "outputs": [
    {
     "name": "stdout",
     "output_type": "stream",
     "text": [
      "{'A': 1, 'B': 4, 'C': 1, 'D': 4, 'E': 1, 'F': 5, 'G': 2}\n"
     ]
    }
   ],
   "source": [
    "d2={'A':1,'B':4,'F':5,'G':2}\n",
    "for i,j in d2.items():\n",
    "    d[i]=j\n",
    "print(d)"
   ]
  },
  {
   "cell_type": "markdown",
   "id": "00f40a68",
   "metadata": {},
   "source": [
    "### 4.\tWrite a Python program to convert key-values list to flat dictionary?"
   ]
  },
  {
   "cell_type": "code",
   "execution_count": 18,
   "id": "89a46c00",
   "metadata": {},
   "outputs": [
    {
     "name": "stdout",
     "output_type": "stream",
     "text": [
      "{'a': 2, 'b': 4, 'c': 5, 'd': 2}\n"
     ]
    }
   ],
   "source": [
    "l=[('a',2),('b',4),('c',5),('d',2)]\n",
    "d={}\n",
    "for i in l:\n",
    "    d[i[0]]=i[1]\n",
    "print(d)"
   ]
  },
  {
   "cell_type": "markdown",
   "id": "e67b4e7a",
   "metadata": {},
   "source": [
    "### 5.\tWrite a Python program to insertion at the beginning in OrderedDict?"
   ]
  },
  {
   "cell_type": "code",
   "execution_count": 26,
   "id": "1fedc1ba",
   "metadata": {},
   "outputs": [
    {
     "name": "stdout",
     "output_type": "stream",
     "text": [
      "OrderedDict([('0', 'z'), ('1', 'a'), ('2', 'b'), ('3', 'c'), ('manjeet', '3')])\n"
     ]
    }
   ],
   "source": [
    "from collections import OrderedDict\n",
    "l1=[('1','a'),('2','b'),('3','c')]\n",
    "d3=OrderedDict(l1)\n",
    "#d3.update(('0','aa'))\n",
    "d3.update({'manjeet':'3'})\n",
    "d3.update({'0':'z'})\n",
    "d3.move_to_end('0',last=False)\n",
    "print(d3)"
   ]
  },
  {
   "cell_type": "markdown",
   "id": "594e1511",
   "metadata": {},
   "source": [
    "### 6.\tWrite a Python program to check order of character in string using OrderedDict()?"
   ]
  },
  {
   "cell_type": "code",
   "execution_count": 58,
   "id": "097b7b53",
   "metadata": {},
   "outputs": [
    {
     "name": "stdout",
     "output_type": "stream",
     "text": [
      "OrderedDict([('m', None), ('a', None), ('h', None), ('e', None), ('n', None), ('d', None), ('r', None)])\n",
      "0 2\n",
      "0 2\n",
      "0 2\n",
      "0 2\n",
      "1 2\n",
      "1 2\n",
      "1 2\n"
     ]
    }
   ],
   "source": [
    "from collections import OrderedDict\n",
    "l='mahender'\n",
    "pttrn='ne'\n",
    "d=OrderedDict.fromkeys(l)\n",
    "print(d)\n",
    "pt=0\n",
    "for k,v in d.items():\n",
    "    if k==pttrn[pt]:\n",
    "        #print(k,pttrn[pt],pt)\n",
    "        pt=pt+1\n",
    "        #print(k,pttrn[pt],pt)\n",
    "    print(pt,len(pttrn))\n",
    "    if pt==(len(pttrn)):\n",
    "        print(\"the order of pattern is correct\")\n",
    "        break"
   ]
  },
  {
   "cell_type": "markdown",
   "id": "cdf996dd",
   "metadata": {},
   "source": [
    "### 7.\tWrite a Python program to sort Python Dictionaries by Key or Value?"
   ]
  },
  {
   "cell_type": "code",
   "execution_count": 63,
   "id": "5338617e",
   "metadata": {},
   "outputs": [
    {
     "name": "stdout",
     "output_type": "stream",
     "text": [
      "a 3\n",
      "c 5\n",
      "d 2\n",
      "e 1\n",
      "f 2\n"
     ]
    }
   ],
   "source": [
    "d={'e':1,'a':3,'f':2,'c':5,'d':2}\n",
    "#print(sorted(d.keys()))\n",
    "for k, v in sorted(d.items()):\n",
    "    print(k,v)"
   ]
  },
  {
   "cell_type": "code",
   "execution_count": null,
   "id": "ec59d265",
   "metadata": {},
   "outputs": [],
   "source": []
  }
 ],
 "metadata": {
  "kernelspec": {
   "display_name": "Python 3 (ipykernel)",
   "language": "python",
   "name": "python3"
  },
  "language_info": {
   "codemirror_mode": {
    "name": "ipython",
    "version": 3
   },
   "file_extension": ".py",
   "mimetype": "text/x-python",
   "name": "python",
   "nbconvert_exporter": "python",
   "pygments_lexer": "ipython3",
   "version": "3.9.12"
  }
 },
 "nbformat": 4,
 "nbformat_minor": 5
}
